{
 "cells": [
  {
   "cell_type": "code",
   "execution_count": 9,
   "metadata": {},
   "outputs": [],
   "source": [
    "import pandas as pd\n",
    "import numpy as np\n",
    "import bar_chart_race as bcr\n",
    "import plotly.express as px\n",
    "\n",
    "FIG_ARGS=dict(figsize=(16,9), dpi=200)"
   ]
  },
  {
   "cell_type": "code",
   "execution_count": 7,
   "metadata": {},
   "outputs": [],
   "source": [
    "import os\n",
    "def load_timeline(name='covid19'):\n",
    "    filename = 'fixtures/{}.parquet.gzip'.format(name)\n",
    "    if not os.path.exists(filename):\n",
    "        df_covid = pd.read_csv('https://raw.githubusercontent.com/CSSEGISandData/COVID-19/master/csse_covid_19_data/csse_covid_19_time_series/time_series_covid19_confirmed_global.csv')\n",
    "        df = px.data.gapminder()\n",
    "        iso_alpha_mapping = {}\n",
    "        for i in range(len(df)):\n",
    "            row = df.iloc[i]\n",
    "            iso_alpha_mapping[row['country']] = row['iso_alpha']\n",
    "\n",
    "        timeline = df_covid.groupby('Country/Region').sum()\n",
    "        timeline = timeline.transpose()[2:]\n",
    "        timeline.index.rename('Date', inplace=True)\n",
    "        timeline.to_parquet(filename, compression='gzip')        \n",
    "        print('All covid19 data processed.')\n",
    "    else:\n",
    "        timeline = pd.read_parquet(filename)\n",
    "        print('All covid19 data loaded.')\n",
    "    return timeline"
   ]
  },
  {
   "cell_type": "code",
   "execution_count": 8,
   "metadata": {},
   "outputs": [
    {
     "name": "stdout",
     "output_type": "stream",
     "text": [
      "All covid19 data processed.\n"
     ]
    }
   ],
   "source": [
    "df = load_timeline()"
   ]
  },
  {
   "cell_type": "code",
   "execution_count": 12,
   "metadata": {},
   "outputs": [
    {
     "name": "stderr",
     "output_type": "stream",
     "text": [
      "/usr/local/lib/python3.8/site-packages/bar_chart_race/_bar_chart_race.py:627: UserWarning: tight_layout: falling back to Agg renderer\n",
      "  self.fig.tight_layout()\n"
     ]
    }
   ],
   "source": [
    "bcr.bar_chart_race(df=df, n_bars=20, title='Covid19: Top 20 Countries', filter_column_colors=True,\n",
    "                    fig_kwargs=FIG_ARGS, filename='videos/covid19.mp4')"
   ]
  },
  {
   "cell_type": "code",
   "execution_count": 33,
   "metadata": {},
   "outputs": [],
   "source": [
    "countries = pd.read_csv('https://raw.githubusercontent.com/lukes/ISO-3166-Countries-with-Regional-Codes/master/slim-2/slim-2.csv', index_col='name')\n",
    "mapping = countries.to_dict()['alpha-2']\n",
    "columns = []\n",
    "mapping1 = {\n",
    "    'Korea, South': 'KR',\n",
    "    'Russia': 'RU',\n",
    "    'Taiwan*': 'TW',\n",
    "    'United Kingdom': 'GB',\n",
    "    'Iran': 'IR',\n",
    "    'Vietnam': 'VN',\n",
    "    'Bolivia': \n",
    "}\n",
    "\n",
    "for name in df.columns:\n",
    "    v = mapping.get(name)\n",
    "    if v:\n",
    "        try:\n",
    "            columns.append(v)\n",
    "        except:\n",
    "            columns.append(name)\n",
    "    else:\n",
    "        v1 = mapping1.get(name)\n",
    "        if v1:\n",
    "            columns.append(v1)\n",
    "        else:\n",
    "            columns.append(name)\n",
    "df.columns = columns"
   ]
  },
  {
   "cell_type": "code",
   "execution_count": 37,
   "metadata": {},
   "outputs": [
    {
     "name": "stderr",
     "output_type": "stream",
     "text": [
      "/usr/local/lib/python3.8/site-packages/bar_chart_race/_bar_chart_race.py:627: UserWarning: tight_layout: falling back to Agg renderer\n",
      "  self.fig.tight_layout()\n"
     ]
    }
   ],
   "source": [
    "bcr.bar_chart_race(df=df, n_bars=15, title='Covid19: Top 15 Countries', filter_column_colors=True,\n",
    "                   img_label_folder='images/flags', tick_image_mode='trailing',\n",
    "                   fig_kwargs=FIG_ARGS, filename='videos/covid19_with_flags.mp4')"
   ]
  },
  {
   "cell_type": "code",
   "execution_count": null,
   "metadata": {},
   "outputs": [],
   "source": []
  }
 ],
 "metadata": {
  "kernelspec": {
   "display_name": "Python 3",
   "language": "python",
   "name": "python3"
  },
  "language_info": {
   "codemirror_mode": {
    "name": "ipython",
    "version": 3
   },
   "file_extension": ".py",
   "mimetype": "text/x-python",
   "name": "python",
   "nbconvert_exporter": "python",
   "pygments_lexer": "ipython3",
   "version": "3.8.6"
  }
 },
 "nbformat": 4,
 "nbformat_minor": 4
}
