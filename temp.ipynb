{
 "cells": [
  {
   "cell_type": "code",
   "execution_count": 1,
   "metadata": {},
   "outputs": [],
   "source": [
    "import bar_chart_race as bcr\n",
    "import pandas as pd\n",
    "import numpy as np\n",
    "import yfinance as yf\n",
    "\n",
    "import warnings\n",
    "warnings.filterwarnings('ignore')\n",
    "import os\n",
    "import pickle\n",
    "\n",
    "COLUMNS=['zip', 'sector', 'fullTimeEmployees', 'longBusinessSummary', 'city', 'phone', 'state', 'country', 'companyOfficers', \n",
    "         'website', 'maxAge', 'address1', 'fax', 'industry', 'previousClose', 'regularMarketOpen', 'twoHundredDayAverage', \n",
    "         'trailingAnnualDividendYield', 'payoutRatio', 'volume24Hr', 'regularMarketDayHigh', 'navPrice', 'averageDailyVolume10Day', \n",
    "         'totalAssets', 'regularMarketPreviousClose', 'fiftyDayAverage', 'trailingAnnualDividendRate', 'open', 'averageVolume10days', \n",
    "         'expireDate', 'yield', 'algorithm', 'dividendRate', 'exDividendDate', 'beta', 'circulatingSupply', 'startDate', \n",
    "         'regularMarketDayLow', 'priceHint', 'currency', 'trailingPE', 'regularMarketVolume', 'lastMarket', 'maxSupply', 'openInterest', \n",
    "         'marketCap', 'volumeAllCurrencies', 'strikePrice', 'averageVolume', 'priceToSalesTrailing12Months', 'dayLow', 'ask', 'ytdReturn', \n",
    "         'askSize', 'volume', 'fiftyTwoWeekHigh', 'forwardPE', 'fromCurrency', 'fiveYearAvgDividendYield', 'fiftyTwoWeekLow', 'bid', \n",
    "         'tradeable', 'dividendYield', 'bidSize', 'dayHigh', 'exchange', 'shortName', 'longName', 'exchangeTimezoneName', \n",
    "         'exchangeTimezoneShortName', 'isEsgPopulated', 'gmtOffSetMilliseconds', 'underlyingSymbol', 'quoteType', 'symbol', \n",
    "         'underlyingExchangeSymbol', 'headSymbol', 'messageBoardId', 'uuid', 'market', 'annualHoldingsTurnover', 'enterpriseToRevenue', \n",
    "         'beta3Year', 'profitMargins', 'enterpriseToEbitda', '52WeekChange', 'morningStarRiskRating', 'forwardEps', 'revenueQuarterlyGrowth', \n",
    "         'sharesOutstanding', 'fundInceptionDate', 'annualReportExpenseRatio', 'bookValue', 'sharesShort', 'sharesPercentSharesOut', \n",
    "         'fundFamily', 'lastFiscalYearEnd', 'heldPercentInstitutions', 'netIncomeToCommon', 'trailingEps', 'lastDividendValue', \n",
    "         'SandP52WeekChange', 'priceToBook', 'heldPercentInsiders', 'nextFiscalYearEnd', 'mostRecentQuarter', 'shortRatio', \n",
    "         'sharesShortPreviousMonthDate', 'floatShares', 'enterpriseValue', 'threeYearAverageReturn', 'lastSplitDate', 'lastSplitFactor', \n",
    "         'legalType', 'morningStarOverallRating', 'earningsQuarterlyGrowth', 'dateShortInterest', 'pegRatio', 'lastCapGain', \n",
    "         'shortPercentOfFloat', 'sharesShortPriorMonth', 'category', 'fiveYearAverageReturn', 'regularMarketPrice', 'logo_url']"
   ]
  },
  {
   "cell_type": "code",
   "execution_count": 8,
   "metadata": {},
   "outputs": [],
   "source": [
    "def get_all_stock_info(name='all_stock_info'):\n",
    "    all_df = pd.DataFrame(columns=COLUMNS)\n",
    "    filename = 'fixtures/{}.parquet.gzip'.format(name)\n",
    "    if not os.path.exists(filename):\n",
    "        with open('fixtures/tickers.pickle', 'rb') as f:\n",
    "            tickers = pickle.load(f)\n",
    "\n",
    "        for ticker in sorted(set(tickers)):\n",
    "            yahoo_ticker = ticker.replace('.', '-')\n",
    "            info_file = 'fixtures/stocks/{}.pickle'.format(yahoo_ticker)\n",
    "            if not os.path.exists(info_file):\n",
    "                print('Processing {}'.format(yahoo_ticker))\n",
    "                t = yf.Ticker(yahoo_ticker)\n",
    "                try:\n",
    "                    info = dict(t.info)\n",
    "                except:\n",
    "                    info = None\n",
    "                with open(info_file, 'wb') as f:\n",
    "                    pickle.dump(info, f)\n",
    "            else:\n",
    "                with open(info_file, 'rb') as f:\n",
    "                    info = pickle.load(f)\n",
    "            try:\n",
    "                if info:\n",
    "                    all_df.loc[yahoo_ticker] = info\n",
    "                else:\n",
    "                    print('Skipped ticker: {}'.format(yahoo_ticker))\n",
    "            except:\n",
    "                continue\n",
    "        all_df.fillna(value=np.nan, inplace=True)\n",
    "        all_df.to_parquet(filename, compression='gzip')\n",
    "        print('All stock data processed.')\n",
    "    else:\n",
    "        all_df = pd.read_parquet(filename)\n",
    "        print('All stock data loaded.')\n",
    "    return all_df\n",
    "\n",
    "def get_all_stocks(start='', end=''):\n",
    "    dfs = {}\n",
    "    with open('fixtures/tickers.pickle', 'rb') as f:\n",
    "        tickers = pickle.load(f)\n",
    "\n",
    "    for ticker in sorted(set(tickers)):\n",
    "        yahoo_ticker = ticker.replace('.', '-')\n",
    "        stock_file = 'fixtures/stocks/{}.parquet.gzip'.format(yahoo_ticker)\n",
    "        if not os.path.exists(stock_file):\n",
    "            print('Processing {}'.format(yahoo_ticker))\n",
    "            t = yf.Ticker(yahoo_ticker)\n",
    "            df = t.history(period='max')\n",
    "            df.to_parquet(stock_file, compression='gzip')\n",
    "        else:\n",
    "            df = pd.read_parquet(stock_file)\n",
    "        if start == '' and end == '':\n",
    "            dfs[yahoo_ticker] = df\n",
    "        elif start == '':\n",
    "            dfs[yahoo_ticker] = df[:end]\n",
    "        elif end == '':\n",
    "            dfs[yahoo_ticker] = df[start:]\n",
    "        else:\n",
    "            dfs[yahoo_ticker] = df[start:end]\n",
    "\n",
    "    return dfs"
   ]
  },
  {
   "cell_type": "code",
   "execution_count": 18,
   "metadata": {},
   "outputs": [
    {
     "name": "stdout",
     "output_type": "stream",
     "text": [
      "All stock data loaded.\n"
     ]
    }
   ],
   "source": [
    "df = get_all_stock_info()"
   ]
  },
  {
   "cell_type": "code",
   "execution_count": 24,
   "metadata": {},
   "outputs": [
    {
     "data": {
      "text/plain": [
       "813.854236286"
      ]
     },
     "execution_count": 24,
     "metadata": {},
     "output_type": "execute_result"
    }
   ],
   "source": [
    "df[(df['country'] == 'China') & (df['city'] == 'Beijing')]['marketCap'].sum() / 1000000000"
   ]
  },
  {
   "cell_type": "code",
   "execution_count": 25,
   "metadata": {},
   "outputs": [
    {
     "data": {
      "text/plain": [
       "515.582304124"
      ]
     },
     "execution_count": 25,
     "metadata": {},
     "output_type": "execute_result"
    }
   ],
   "source": [
    "df[(df['country'] == 'China') & (df['city'] == 'Shanghai')]['marketCap'].sum() / 1000000000"
   ]
  },
  {
   "cell_type": "code",
   "execution_count": 29,
   "metadata": {},
   "outputs": [
    {
     "data": {
      "text/plain": [
       "45.301750076"
      ]
     },
     "execution_count": 29,
     "metadata": {},
     "output_type": "execute_result"
    }
   ],
   "source": [
    "df[(df['country'] == 'China') & (df['city'] == 'Shenzhen')]['marketCap'].sum() / 1000000000"
   ]
  },
  {
   "cell_type": "code",
   "execution_count": 30,
   "metadata": {},
   "outputs": [
    {
     "data": {
      "text/plain": [
       "96.679661232"
      ]
     },
     "execution_count": 30,
     "metadata": {},
     "output_type": "execute_result"
    }
   ],
   "source": [
    "df[(df['country'] == 'China') & (df['city'] == 'Guangzhou')]['marketCap'].sum() / 1000000000"
   ]
  },
  {
   "cell_type": "code",
   "execution_count": 31,
   "metadata": {},
   "outputs": [
    {
     "data": {
      "text/plain": [
       "2185.122036258"
      ]
     },
     "execution_count": 31,
     "metadata": {},
     "output_type": "execute_result"
    }
   ],
   "source": [
    "df[(df['country'] == 'China')]['marketCap'].sum() / 1000000000"
   ]
  },
  {
   "cell_type": "code",
   "execution_count": 60,
   "metadata": {},
   "outputs": [
    {
     "data": {
      "text/html": [
       "<div>\n",
       "<style scoped>\n",
       "    .dataframe tbody tr th:only-of-type {\n",
       "        vertical-align: middle;\n",
       "    }\n",
       "\n",
       "    .dataframe tbody tr th {\n",
       "        vertical-align: top;\n",
       "    }\n",
       "\n",
       "    .dataframe thead th {\n",
       "        text-align: right;\n",
       "    }\n",
       "</style>\n",
       "<table border=\"1\" class=\"dataframe\">\n",
       "  <thead>\n",
       "    <tr style=\"text-align: right;\">\n",
       "      <th></th>\n",
       "      <th>marketCap</th>\n",
       "      <th>Employees</th>\n",
       "    </tr>\n",
       "    <tr>\n",
       "      <th>city</th>\n",
       "      <th></th>\n",
       "      <th></th>\n",
       "    </tr>\n",
       "  </thead>\n",
       "  <tbody>\n",
       "    <tr>\n",
       "      <th>New York</th>\n",
       "      <td>3265.587270</td>\n",
       "      <td>2319086.0</td>\n",
       "    </tr>\n",
       "    <tr>\n",
       "      <th>Mountain View</th>\n",
       "      <td>2524.454072</td>\n",
       "      <td>300160.0</td>\n",
       "    </tr>\n",
       "    <tr>\n",
       "      <th>Cupertino</th>\n",
       "      <td>2290.706467</td>\n",
       "      <td>147263.0</td>\n",
       "    </tr>\n",
       "    <tr>\n",
       "      <th>Seattle</th>\n",
       "      <td>1977.528622</td>\n",
       "      <td>1649369.0</td>\n",
       "    </tr>\n",
       "    <tr>\n",
       "      <th>San Francisco</th>\n",
       "      <td>1974.021796</td>\n",
       "      <td>709966.0</td>\n",
       "    </tr>\n",
       "    <tr>\n",
       "      <th>Redmond</th>\n",
       "      <td>1682.012494</td>\n",
       "      <td>163119.0</td>\n",
       "    </tr>\n",
       "    <tr>\n",
       "      <th>San Jose</th>\n",
       "      <td>1320.750940</td>\n",
       "      <td>346725.0</td>\n",
       "    </tr>\n",
       "    <tr>\n",
       "      <th>Atlanta</th>\n",
       "      <td>1083.729498</td>\n",
       "      <td>1208661.0</td>\n",
       "    </tr>\n",
       "    <tr>\n",
       "      <th>London</th>\n",
       "      <td>974.906014</td>\n",
       "      <td>1303487.0</td>\n",
       "    </tr>\n",
       "    <tr>\n",
       "      <th>Santa Clara</th>\n",
       "      <td>967.712177</td>\n",
       "      <td>220765.0</td>\n",
       "    </tr>\n",
       "    <tr>\n",
       "      <th>Chicago</th>\n",
       "      <td>863.978101</td>\n",
       "      <td>1183269.0</td>\n",
       "    </tr>\n",
       "    <tr>\n",
       "      <th>Beijing</th>\n",
       "      <td>813.854236</td>\n",
       "      <td>1699633.0</td>\n",
       "    </tr>\n",
       "    <tr>\n",
       "      <th>Palo Alto</th>\n",
       "      <td>804.692984</td>\n",
       "      <td>144440.0</td>\n",
       "    </tr>\n",
       "    <tr>\n",
       "      <th>Menlo Park</th>\n",
       "      <td>804.004483</td>\n",
       "      <td>74804.0</td>\n",
       "    </tr>\n",
       "    <tr>\n",
       "      <th>Hangzhou</th>\n",
       "      <td>698.093692</td>\n",
       "      <td>169911.0</td>\n",
       "    </tr>\n",
       "    <tr>\n",
       "      <th>Houston</th>\n",
       "      <td>669.928338</td>\n",
       "      <td>740085.0</td>\n",
       "    </tr>\n",
       "    <tr>\n",
       "      <th>Dallas</th>\n",
       "      <td>639.672199</td>\n",
       "      <td>743935.0</td>\n",
       "    </tr>\n",
       "    <tr>\n",
       "      <th>Dublin</th>\n",
       "      <td>627.265470</td>\n",
       "      <td>1257995.0</td>\n",
       "    </tr>\n",
       "    <tr>\n",
       "      <th>Charlotte</th>\n",
       "      <td>621.838414</td>\n",
       "      <td>565615.0</td>\n",
       "    </tr>\n",
       "    <tr>\n",
       "      <th>Toronto</th>\n",
       "      <td>612.443582</td>\n",
       "      <td>557627.0</td>\n",
       "    </tr>\n",
       "    <tr>\n",
       "      <th>Purchase</th>\n",
       "      <td>590.156768</td>\n",
       "      <td>294828.0</td>\n",
       "    </tr>\n",
       "    <tr>\n",
       "      <th>Shanghai</th>\n",
       "      <td>515.582304</td>\n",
       "      <td>690210.0</td>\n",
       "    </tr>\n",
       "    <tr>\n",
       "      <th>Boston</th>\n",
       "      <td>504.912792</td>\n",
       "      <td>316518.0</td>\n",
       "    </tr>\n",
       "    <tr>\n",
       "      <th>Hsinchu</th>\n",
       "      <td>492.816073</td>\n",
       "      <td>0.0</td>\n",
       "    </tr>\n",
       "    <tr>\n",
       "      <th>San Diego</th>\n",
       "      <td>480.967874</td>\n",
       "      <td>135978.0</td>\n",
       "    </tr>\n",
       "    <tr>\n",
       "      <th>Cincinnati</th>\n",
       "      <td>460.989639</td>\n",
       "      <td>754454.0</td>\n",
       "    </tr>\n",
       "    <tr>\n",
       "      <th>Tokyo</th>\n",
       "      <td>417.323896</td>\n",
       "      <td>716574.0</td>\n",
       "    </tr>\n",
       "    <tr>\n",
       "      <th>New Brunswick</th>\n",
       "      <td>410.941835</td>\n",
       "      <td>132298.0</td>\n",
       "    </tr>\n",
       "    <tr>\n",
       "      <th>Bentonville</th>\n",
       "      <td>407.926997</td>\n",
       "      <td>2200000.0</td>\n",
       "    </tr>\n",
       "    <tr>\n",
       "      <th>Cambridge</th>\n",
       "      <td>381.556732</td>\n",
       "      <td>114077.0</td>\n",
       "    </tr>\n",
       "  </tbody>\n",
       "</table>\n",
       "</div>"
      ],
      "text/plain": [
       "                 marketCap  Employees\n",
       "city                                 \n",
       "New York       3265.587270  2319086.0\n",
       "Mountain View  2524.454072   300160.0\n",
       "Cupertino      2290.706467   147263.0\n",
       "Seattle        1977.528622  1649369.0\n",
       "San Francisco  1974.021796   709966.0\n",
       "Redmond        1682.012494   163119.0\n",
       "San Jose       1320.750940   346725.0\n",
       "Atlanta        1083.729498  1208661.0\n",
       "London          974.906014  1303487.0\n",
       "Santa Clara     967.712177   220765.0\n",
       "Chicago         863.978101  1183269.0\n",
       "Beijing         813.854236  1699633.0\n",
       "Palo Alto       804.692984   144440.0\n",
       "Menlo Park      804.004483    74804.0\n",
       "Hangzhou        698.093692   169911.0\n",
       "Houston         669.928338   740085.0\n",
       "Dallas          639.672199   743935.0\n",
       "Dublin          627.265470  1257995.0\n",
       "Charlotte       621.838414   565615.0\n",
       "Toronto         612.443582   557627.0\n",
       "Purchase        590.156768   294828.0\n",
       "Shanghai        515.582304   690210.0\n",
       "Boston          504.912792   316518.0\n",
       "Hsinchu         492.816073        0.0\n",
       "San Diego       480.967874   135978.0\n",
       "Cincinnati      460.989639   754454.0\n",
       "Tokyo           417.323896   716574.0\n",
       "New Brunswick   410.941835   132298.0\n",
       "Bentonville     407.926997  2200000.0\n",
       "Cambridge       381.556732   114077.0"
      ]
     },
     "execution_count": 60,
     "metadata": {},
     "output_type": "execute_result"
    }
   ],
   "source": [
    "df1 = df.groupby('city').sum()\n",
    "s1 = df1['marketCap'] / 1000000000\n",
    "s2 = df1['fullTimeEmployees']\n",
    "df2 = pd.DataFrame({'marketCap': s1, 'Employees': s2})\n",
    "df2.sort_values(by=['marketCap'], ascending=False)[:30]"
   ]
  },
  {
   "cell_type": "code",
   "execution_count": 50,
   "metadata": {},
   "outputs": [
    {
     "data": {
      "text/plain": [
       "index\n",
       "A       16400.0\n",
       "AA      13800.0\n",
       "AACG      768.0\n",
       "AACQ        NaN\n",
       "AAIC       11.0\n",
       "         ...   \n",
       "ZUMZ     2575.0\n",
       "ZUO      1249.0\n",
       "ZVO      1830.0\n",
       "ZYME      325.0\n",
       "ZYNE       28.0\n",
       "Name: fullTimeEmployees, Length: 6358, dtype: float64"
      ]
     },
     "execution_count": 50,
     "metadata": {},
     "output_type": "execute_result"
    }
   ],
   "source": [
    "df['E']"
   ]
  },
  {
   "cell_type": "code",
   "execution_count": null,
   "metadata": {},
   "outputs": [],
   "source": []
  }
 ],
 "metadata": {
  "kernelspec": {
   "display_name": "Python 3",
   "language": "python",
   "name": "python3"
  },
  "language_info": {
   "codemirror_mode": {
    "name": "ipython",
    "version": 3
   },
   "file_extension": ".py",
   "mimetype": "text/x-python",
   "name": "python",
   "nbconvert_exporter": "python",
   "pygments_lexer": "ipython3",
   "version": "3.8.6"
  }
 },
 "nbformat": 4,
 "nbformat_minor": 4
}
